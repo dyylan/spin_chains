{
 "cells": [
  {
   "cell_type": "code",
   "execution_count": 1,
   "id": "a2a1af29",
   "metadata": {},
   "outputs": [],
   "source": [
    "import numpy as np"
   ]
  },
  {
   "cell_type": "code",
   "execution_count": 2,
   "id": "0a5fe656",
   "metadata": {},
   "outputs": [
    {
     "data": {
      "text/plain": [
       "[1, 2, 3, 4, 1, 2, 3, 4, 1, 2, 3, 4, 1, 2, 3, 4]"
      ]
     },
     "execution_count": 2,
     "metadata": {},
     "output_type": "execute_result"
    }
   ],
   "source": [
    "4 * [1,2,3,4]"
   ]
  },
  {
   "cell_type": "code",
   "execution_count": 6,
   "id": "4fa41d51",
   "metadata": {},
   "outputs": [],
   "source": [
    "import quimb\n",
    "\n",
    "n_ions = 8\n",
    "n_phonons = 4"
   ]
  },
  {
   "cell_type": "code",
   "execution_count": 7,
   "id": "a75c6bf9",
   "metadata": {},
   "outputs": [],
   "source": [
    "up = quimb.qu([1, 0], qtype=\"ket\")\n",
    "down = quimb.qu([0, 1], qtype=\"ket\")"
   ]
  },
  {
   "cell_type": "code",
   "execution_count": 8,
   "id": "5debdb7f",
   "metadata": {},
   "outputs": [
    {
     "data": {
      "text/plain": [
       "[[[1.+0.j]\n",
       "  [0.+0.j]],\n",
       " [[0.+0.j]\n",
       "  [1.+0.j]],\n",
       " [[0.+0.j]\n",
       "  [1.+0.j]],\n",
       " [[0.+0.j]\n",
       "  [1.+0.j]],\n",
       " [[0.+0.j]\n",
       "  [1.+0.j]],\n",
       " [[0.+0.j]\n",
       "  [1.+0.j]],\n",
       " [[0.+0.j]\n",
       "  [1.+0.j]],\n",
       " [[0.+0.j]\n",
       "  [1.+0.j]]]"
      ]
     },
     "execution_count": 8,
     "metadata": {},
     "output_type": "execute_result"
    }
   ],
   "source": [
    "[up] + [down for _ in range(n_ions - 1)]"
   ]
  },
  {
   "cell_type": "code",
   "execution_count": 13,
   "id": "2f5f1ea5",
   "metadata": {},
   "outputs": [
    {
     "data": {
      "text/plain": [
       "[[[0.+0.j]\n",
       "  [1.+0.j]],\n",
       " [[1.+0.j]\n",
       "  [0.+0.j]],\n",
       " [[0.+0.j]\n",
       "  [1.+0.j]],\n",
       " [[1.+0.j]\n",
       "  [0.+0.j]],\n",
       " [[0.+0.j]\n",
       "  [1.+0.j]],\n",
       " [[1.+0.j]\n",
       "  [0.+0.j]],\n",
       " [[0.+0.j]\n",
       "  [1.+0.j]]]"
      ]
     },
     "execution_count": 13,
     "metadata": {},
     "output_type": "execute_result"
    }
   ],
   "source": [
    "[up if i % 2 else down for i in range(n_ions - 1)]"
   ]
  },
  {
   "cell_type": "code",
   "execution_count": 15,
   "id": "476c508a",
   "metadata": {},
   "outputs": [
    {
     "data": {
      "text/plain": [
       "1"
      ]
     },
     "execution_count": 15,
     "metadata": {},
     "output_type": "execute_result"
    }
   ],
   "source": [
    "11 % 2"
   ]
  },
  {
   "cell_type": "code",
   "execution_count": null,
   "id": "5c634899",
   "metadata": {},
   "outputs": [],
   "source": []
  }
 ],
 "metadata": {
  "kernelspec": {
   "display_name": "Python 3",
   "language": "python",
   "name": "python3"
  },
  "language_info": {
   "codemirror_mode": {
    "name": "ipython",
    "version": 3
   },
   "file_extension": ".py",
   "mimetype": "text/x-python",
   "name": "python",
   "nbconvert_exporter": "python",
   "pygments_lexer": "ipython3",
   "version": "3.9.10"
  }
 },
 "nbformat": 4,
 "nbformat_minor": 5
}
